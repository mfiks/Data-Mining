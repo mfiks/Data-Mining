{
 "cells": [
  {
   "cell_type": "code",
   "execution_count": 1,
   "id": "0858ec04",
   "metadata": {},
   "outputs": [],
   "source": [
    "import numpy as np\n",
    "import matplotlib.pyplot as plt\n",
    "import pandas as pd"
   ]
  },
  {
   "cell_type": "code",
   "execution_count": 2,
   "id": "17fb2352",
   "metadata": {},
   "outputs": [],
   "source": [
    "dataset = pd.read_csv('data.csv')\n",
    "x = dataset.iloc[:, :-1].values\n",
    "y = dataset.iloc[:, -1].values"
   ]
  },
  {
   "cell_type": "code",
   "execution_count": 3,
   "id": "b2e9e439",
   "metadata": {},
   "outputs": [
    {
     "name": "stdout",
     "output_type": "stream",
     "text": [
      "       Province   Age        Wage Life Insured\n",
      "0        Banten  24.0   5000000.0          Yes\n",
      "1   DKI Jakarta   NaN   3400000.0           No\n",
      "2    Jawa Barat  60.0   7350000.0           No\n",
      "3        Banten  34.0   3500000.0           No\n",
      "4    Jawa Barat  58.0         NaN          Yes\n",
      "5   DKI Jakarta   NaN   8000000.0           No\n",
      "6        Banten  21.0   5500000.0           No\n",
      "7        Banten  44.0  10000000.0          Yes\n",
      "8    Jawa Barat  40.0   9000000.0          Yes\n",
      "9   DKI Jakarta  51.0  10500000.0          Yes\n",
      "10       Banten  32.0         NaN           No\n",
      "11       Banten  30.0   6400000.0           No\n",
      "12   Jawa Barat  30.0         NaN           No\n",
      "13  DKI Jakarta  19.0   2200000.0          Yes\n",
      "14  DKI Jakarta  25.0   4500000.0          Yes\n"
     ]
    }
   ],
   "source": [
    "print(dataset)"
   ]
  },
  {
   "cell_type": "code",
   "execution_count": 4,
   "id": "48291887",
   "metadata": {},
   "outputs": [
    {
     "name": "stdout",
     "output_type": "stream",
     "text": [
      "[['Banten' 24.0 5000000.0]\n",
      " ['DKI Jakarta' nan 3400000.0]\n",
      " ['Jawa Barat' 60.0 7350000.0]\n",
      " ['Banten' 34.0 3500000.0]\n",
      " ['Jawa Barat' 58.0 nan]\n",
      " ['DKI Jakarta' nan 8000000.0]\n",
      " ['Banten' 21.0 5500000.0]\n",
      " ['Banten' 44.0 10000000.0]\n",
      " ['Jawa Barat' 40.0 9000000.0]\n",
      " ['DKI Jakarta' 51.0 10500000.0]\n",
      " ['Banten' 32.0 nan]\n",
      " ['Banten' 30.0 6400000.0]\n",
      " ['Jawa Barat' 30.0 nan]\n",
      " ['DKI Jakarta' 19.0 2200000.0]\n",
      " ['DKI Jakarta' 25.0 4500000.0]]\n"
     ]
    }
   ],
   "source": [
    "print(x)"
   ]
  },
  {
   "cell_type": "code",
   "execution_count": 5,
   "id": "615622bf",
   "metadata": {},
   "outputs": [
    {
     "name": "stdout",
     "output_type": "stream",
     "text": [
      "['Yes' 'No' 'No' 'No' 'Yes' 'No' 'No' 'Yes' 'Yes' 'Yes' 'No' 'No' 'No'\n",
      " 'Yes' 'Yes']\n"
     ]
    }
   ],
   "source": [
    "print(y)"
   ]
  },
  {
   "cell_type": "code",
   "execution_count": null,
   "id": "e2a9fc29",
   "metadata": {},
   "outputs": [],
   "source": []
  },
  {
   "cell_type": "code",
   "execution_count": 6,
   "id": "fcc5b177",
   "metadata": {},
   "outputs": [],
   "source": [
    "from sklearn.impute import SimpleImputer\n",
    "imputer = SimpleImputer(\n",
    "        missing_values=np.nan, \n",
    "        strategy='mean'\n",
    "        )\n",
    "imputer = imputer.fit(x[:, 1:3])\n",
    "x[:, 1:3] = imputer.transform(x[:, 1:3])"
   ]
  },
  {
   "cell_type": "code",
   "execution_count": 7,
   "id": "261da67b",
   "metadata": {},
   "outputs": [
    {
     "name": "stdout",
     "output_type": "stream",
     "text": [
      "[['Banten' 24.0 5000000.0]\n",
      " ['DKI Jakarta' 36.0 3400000.0]\n",
      " ['Jawa Barat' 60.0 7350000.0]\n",
      " ['Banten' 34.0 3500000.0]\n",
      " ['Jawa Barat' 58.0 6279166.666666667]\n",
      " ['DKI Jakarta' 36.0 8000000.0]\n",
      " ['Banten' 21.0 5500000.0]\n",
      " ['Banten' 44.0 10000000.0]\n",
      " ['Jawa Barat' 40.0 9000000.0]\n",
      " ['DKI Jakarta' 51.0 10500000.0]\n",
      " ['Banten' 32.0 6279166.666666667]\n",
      " ['Banten' 30.0 6400000.0]\n",
      " ['Jawa Barat' 30.0 6279166.666666667]\n",
      " ['DKI Jakarta' 19.0 2200000.0]\n",
      " ['DKI Jakarta' 25.0 4500000.0]]\n"
     ]
    }
   ],
   "source": [
    "print(x)"
   ]
  },
  {
   "cell_type": "code",
   "execution_count": null,
   "id": "ced56d0a",
   "metadata": {},
   "outputs": [],
   "source": []
  },
  {
   "cell_type": "code",
   "execution_count": 8,
   "id": "2f809b8e",
   "metadata": {},
   "outputs": [],
   "source": [
    "from sklearn.preprocessing import OneHotEncoder\n",
    "from sklearn.compose import ColumnTransformer\n",
    "ct= ColumnTransformer(transformers=[('province_encoder', OneHotEncoder(), [0])], remainder='passthrough')\n",
    "x = np.array(ct.fit_transform(x))"
   ]
  },
  {
   "cell_type": "code",
   "execution_count": 9,
   "id": "4ecf65b7",
   "metadata": {},
   "outputs": [
    {
     "name": "stdout",
     "output_type": "stream",
     "text": [
      "[[1.0 0.0 0.0 24.0 5000000.0]\n",
      " [0.0 1.0 0.0 36.0 3400000.0]\n",
      " [0.0 0.0 1.0 60.0 7350000.0]\n",
      " [1.0 0.0 0.0 34.0 3500000.0]\n",
      " [0.0 0.0 1.0 58.0 6279166.666666667]\n",
      " [0.0 1.0 0.0 36.0 8000000.0]\n",
      " [1.0 0.0 0.0 21.0 5500000.0]\n",
      " [1.0 0.0 0.0 44.0 10000000.0]\n",
      " [0.0 0.0 1.0 40.0 9000000.0]\n",
      " [0.0 1.0 0.0 51.0 10500000.0]\n",
      " [1.0 0.0 0.0 32.0 6279166.666666667]\n",
      " [1.0 0.0 0.0 30.0 6400000.0]\n",
      " [0.0 0.0 1.0 30.0 6279166.666666667]\n",
      " [0.0 1.0 0.0 19.0 2200000.0]\n",
      " [0.0 1.0 0.0 25.0 4500000.0]]\n"
     ]
    }
   ],
   "source": [
    "print(x)"
   ]
  },
  {
   "cell_type": "code",
   "execution_count": null,
   "id": "2030bf31",
   "metadata": {},
   "outputs": [],
   "source": []
  },
  {
   "cell_type": "code",
   "execution_count": 10,
   "id": "e244add9",
   "metadata": {},
   "outputs": [],
   "source": [
    "from sklearn.preprocessing import LabelEncoder\n",
    "le = LabelEncoder()\n",
    "y = le.fit_transform(y)"
   ]
  },
  {
   "cell_type": "code",
   "execution_count": 11,
   "id": "d0f6ed51",
   "metadata": {},
   "outputs": [
    {
     "name": "stdout",
     "output_type": "stream",
     "text": [
      "[1 0 0 0 1 0 0 1 1 1 0 0 0 1 1]\n"
     ]
    }
   ],
   "source": [
    "print(y)"
   ]
  },
  {
   "cell_type": "code",
   "execution_count": null,
   "id": "04a23a60",
   "metadata": {},
   "outputs": [],
   "source": []
  },
  {
   "cell_type": "code",
   "execution_count": 12,
   "id": "425430a6",
   "metadata": {},
   "outputs": [],
   "source": [
    "from sklearn.model_selection import train_test_split\n",
    "x_train, x_test, y_train, y_test = train_test_split(x, y, test_size=0.2, random_state=0)"
   ]
  },
  {
   "cell_type": "code",
   "execution_count": 13,
   "id": "5c6c06bd",
   "metadata": {},
   "outputs": [
    {
     "name": "stdout",
     "output_type": "stream",
     "text": [
      "[[0.0 1.0 0.0 51.0 10500000.0]\n",
      " [0.0 1.0 0.0 25.0 4500000.0]\n",
      " [0.0 0.0 1.0 58.0 6279166.666666667]\n",
      " [0.0 0.0 1.0 60.0 7350000.0]\n",
      " [0.0 1.0 0.0 19.0 2200000.0]\n",
      " [1.0 0.0 0.0 32.0 6279166.666666667]\n",
      " [1.0 0.0 0.0 44.0 10000000.0]\n",
      " [1.0 0.0 0.0 30.0 6400000.0]\n",
      " [1.0 0.0 0.0 34.0 3500000.0]\n",
      " [1.0 0.0 0.0 24.0 5000000.0]\n",
      " [0.0 1.0 0.0 36.0 8000000.0]\n",
      " [0.0 0.0 1.0 30.0 6279166.666666667]]\n"
     ]
    }
   ],
   "source": [
    "print(x_train)"
   ]
  },
  {
   "cell_type": "code",
   "execution_count": 14,
   "id": "2ceaab2b",
   "metadata": {},
   "outputs": [
    {
     "name": "stdout",
     "output_type": "stream",
     "text": [
      "[[0.0 1.0 0.0 36.0 3400000.0]\n",
      " [1.0 0.0 0.0 21.0 5500000.0]\n",
      " [0.0 0.0 1.0 40.0 9000000.0]]\n"
     ]
    }
   ],
   "source": [
    "print(x_test)"
   ]
  },
  {
   "cell_type": "code",
   "execution_count": 15,
   "id": "a6535361",
   "metadata": {},
   "outputs": [
    {
     "name": "stdout",
     "output_type": "stream",
     "text": [
      "[1 1 1 0 1 0 1 0 0 1 0 0]\n"
     ]
    }
   ],
   "source": [
    "print(y_train)"
   ]
  },
  {
   "cell_type": "code",
   "execution_count": 16,
   "id": "431e5f9c",
   "metadata": {},
   "outputs": [
    {
     "name": "stdout",
     "output_type": "stream",
     "text": [
      "[0 0 1]\n"
     ]
    }
   ],
   "source": [
    "print(y_test)"
   ]
  },
  {
   "cell_type": "code",
   "execution_count": null,
   "id": "4486a595",
   "metadata": {},
   "outputs": [],
   "source": []
  },
  {
   "cell_type": "code",
   "execution_count": 17,
   "id": "8e8215de",
   "metadata": {},
   "outputs": [],
   "source": [
    "from sklearn.preprocessing import StandardScaler\n",
    "sc = StandardScaler()\n",
    "x_train[:, 3:] = sc.fit_transform(x_train[:, 3:])\n",
    "x_test[:, 3:] = sc.transform(x_test[:, 3:])"
   ]
  },
  {
   "cell_type": "code",
   "execution_count": 18,
   "id": "ac7fc1d1",
   "metadata": {},
   "outputs": [
    {
     "name": "stdout",
     "output_type": "stream",
     "text": [
      "[[0.0 1.0 0.0 1.0950272892781363 1.7817150841237404]\n",
      " [0.0 1.0 0.0 -0.9265615524661149 -0.7987925559448409]\n",
      " [0.0 0.0 1.0 1.6393012082092808 -0.03360035989672672]\n",
      " [0.0 0.0 1.0 1.7948080421896078 0.4269485730877352]\n",
      " [0.0 1.0 0.0 -1.393082054407096 -1.7879871513044636]\n",
      " [1.0 0.0 0.0 -0.3822876335349704 -0.03360035989672672]\n",
      " [1.0 0.0 0.0 0.5507533703469917 1.5666727807846919]\n",
      " [1.0 0.0 0.0 -0.5377944675152975 0.018368196743543185]\n",
      " [1.0 0.0 0.0 -0.2267807995546434 -1.2288771626229378]\n",
      " [1.0 0.0 0.0 -1.0043149694562785 -0.5837502526057924]\n",
      " [0.0 1.0 0.0 -0.07127396557431637 0.7065035674284982]\n",
      " [0.0 0.0 1.0 -0.5377944675152975 -0.03360035989672672]]\n"
     ]
    }
   ],
   "source": [
    "print(x_train)"
   ]
  },
  {
   "cell_type": "code",
   "execution_count": null,
   "id": "d7eefc78",
   "metadata": {},
   "outputs": [],
   "source": []
  }
 ],
 "metadata": {
  "kernelspec": {
   "display_name": "Python 3 (ipykernel)",
   "language": "python",
   "name": "python3"
  },
  "language_info": {
   "codemirror_mode": {
    "name": "ipython",
    "version": 3
   },
   "file_extension": ".py",
   "mimetype": "text/x-python",
   "name": "python",
   "nbconvert_exporter": "python",
   "pygments_lexer": "ipython3",
   "version": "3.10.1"
  }
 },
 "nbformat": 4,
 "nbformat_minor": 5
}
